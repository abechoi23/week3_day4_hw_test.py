{
 "cells": [
  {
   "cell_type": "code",
   "execution_count": 1,
   "id": "46b0158d",
   "metadata": {},
   "outputs": [],
   "source": [
    "# Create a function that given a list which represents street lights given as a parameter(l_street), determine if an outage has occurred. A street with a total number of “F” greater than or equal to 2 returns “Outage”, anything below returns “Power”\n",
    "# Example Input: [ ‘T’, ‘F’, ‘F’, ‘F’ ]\n",
    "# Example Output: “Outage”"
   ]
  },
  {
   "cell_type": "code",
   "execution_count": 3,
   "id": "eb8b4835",
   "metadata": {},
   "outputs": [
    {
     "name": "stdout",
     "output_type": "stream",
     "text": [
      "Outage\n"
     ]
    }
   ],
   "source": [
    "def power(l_street):\n",
    "    return 'Outage' if l_street.count('F') >= 2 else 'Power'\n",
    "\n",
    "my_list = ['T', 'F', 'F', 'F']\n",
    "results = power(my_list)\n",
    "print(results)"
   ]
  }
 ],
 "metadata": {
  "kernelspec": {
   "display_name": "Python 3 (ipykernel)",
   "language": "python",
   "name": "python3"
  },
  "language_info": {
   "codemirror_mode": {
    "name": "ipython",
    "version": 3
   },
   "file_extension": ".py",
   "mimetype": "text/x-python",
   "name": "python",
   "nbconvert_exporter": "python",
   "pygments_lexer": "ipython3",
   "version": "3.9.13"
  }
 },
 "nbformat": 4,
 "nbformat_minor": 5
}
